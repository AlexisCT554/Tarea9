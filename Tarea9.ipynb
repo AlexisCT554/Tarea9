{
  "nbformat": 4,
  "nbformat_minor": 0,
  "metadata": {
    "colab": {
      "name": "Lista_Circular_Simple.ipynb",
      "provenance": []
    },
    "kernelspec": {
      "name": "python3",
      "display_name": "Python 3"
    },
    "language_info": {
      "name": "python"
    }
  },
  "cells": [
    {
      "cell_type": "code",
      "metadata": {
        "id": "cNbb7h77Ar7j"
      },
      "source": [
        "class Nodo:\n",
        "  def __init__(self,value,siguiente = None):\n",
        "    self.data = value\n",
        "    self.next = siguiente"
      ],
      "execution_count": 2,
      "outputs": []
    },
    {
      "cell_type": "code",
      "metadata": {
        "id": "qD_3k4OrCD8x"
      },
      "source": [
        "class CircularList:\n",
        "  def __init__(self):\n",
        "    self.ref = None\n",
        "\n",
        "  def is_empty(self):\n",
        "    return self.ref == None\n",
        "  \n",
        "  def insert(self,value):\n",
        "    if self.is_empty():\n",
        "      self.ref = Nodo(value)\n",
        "      self.ref.next = self.ref\n",
        "    elif self.search(value):\n",
        "      print(\"El valor ingresado ya existe en la lista, intenta con otro\")\n",
        "    else:\n",
        "      if value > self.ref.data:\n",
        "        curr_node = self.ref\n",
        "        while curr_node.next != self.ref:\n",
        "          curr_node = curr_node.next\n",
        "        self.ref = Nodo(value, curr_node.next.next)\n",
        "        curr_node.next.next = self.ref\n",
        "      else:\n",
        "        curr_node = self.ref\n",
        "        while value > curr_node.next.data:\n",
        "          curr_node = curr_node.next\n",
        "        curr_node.next = Nodo(value,curr_node.next) \n",
        "\n",
        "  def transversal(self):\n",
        "    curr_node = self.ref\n",
        "    if curr_node == self.ref and curr_node != None:\n",
        "      print(f\"| {curr_node.data} | -->\", end = \"\")\n",
        "      curr_node = curr_node.next\n",
        "    while curr_node != self.ref:\n",
        "      print(f\"| {curr_node.data} | -->\", end = \"\")\n",
        "      curr_node = curr_node.next\n",
        "    print(\"\")\n",
        "\n",
        "  def search(self,value):\n",
        "    existe = False\n",
        "    curr_node = self.ref\n",
        "    while curr_node.next.data != self.ref.data:\n",
        "      if curr_node.next.data == value:\n",
        "        existe = True\n",
        "      curr_node = curr_node.next\n",
        "    if curr_node.next.data == self.ref.data and curr_node.next.data == value:\n",
        "      existe == True\n",
        "    return existe\n",
        "\n",
        "  def remove(self,value):\n",
        "    if self.ref.next == self.ref:\n",
        "      self.ref = None\n",
        "    elif value == self.ref.data:\n",
        "      curr_node = self.ref\n",
        "      while curr_node.next != self.ref:\n",
        "        curr_node = curr_node.next\n",
        "      curr_node.next = self.ref.next\n",
        "      self.ref = curr_node\n",
        "    else:\n",
        "      curr_node = self.ref\n",
        "      while curr_node.next.data != value:\n",
        "        curr_node = curr_node.next\n",
        "      curr_node.next = curr_node.next.next\n",
        "\n",
        "\n"
      ],
      "execution_count": 29,
      "outputs": []
    },
    {
      "cell_type": "code",
      "metadata": {
        "colab": {
          "base_uri": "https://localhost:8080/"
        },
        "id": "fP_d91xaDKvL",
        "outputId": "60e903e7-b183-49b1-fae7-28ab88f90d1f"
      },
      "source": [
        "cl = CircularList()\n",
        "if cl.is_empty():\n",
        "  print(\"La lista esta vacia\")\n",
        "else:\n",
        "  print(\"La lista no esta vacia\")\n",
        "\n",
        "cl.insert(10)\n",
        "\n",
        "cl.transversal()\n",
        "\n",
        "cl.insert(400)\n",
        "cl.insert(50)\n",
        "cl.insert(20)\n",
        "cl.insert(30)\n",
        "cl.insert(25)\n",
        "cl.insert(48)\n",
        "cl.insert(62)\n",
        "cl.insert(3)\n",
        "cl.insert(22)\n",
        "cl.transversal()\n",
        "cl.insert(20)\n",
        "\n",
        "cl.remove(20)\n",
        "cl.transversal()\n",
        "\n",
        "cl.insert(50)"
      ],
      "execution_count": 30,
      "outputs": [
        {
          "output_type": "stream",
          "name": "stdout",
          "text": [
            "La lista esta vacia\n",
            "-->| 10 | \n",
            "-->| 400 | -->| 3 | -->| 10 | -->| 20 | -->| 22 | -->| 25 | -->| 30 | -->| 48 | -->| 50 | -->| 62 | \n",
            "El valor ingresado ya existe en la lista, intenta con otro\n",
            "-->| 400 | -->| 3 | -->| 10 | -->| 22 | -->| 25 | -->| 30 | -->| 48 | -->| 50 | -->| 62 | \n",
            "El valor ingresado ya existe en la lista, intenta con otro\n"
          ]
        }
      ]
    }
  ]
}